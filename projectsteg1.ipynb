{
 "cells": [
  {
   "cell_type": "markdown",
   "metadata": {},
   "source": [
    "### Projekt steg1\n",
    "\n",
    "##### Min uppgifter är: \n",
    "- Tolka patientdata för att förutsäga risk för vissa sjukdomar\n",
    "\n",
    "##### Beskrivning av problemet:\n",
    "\n",
    "Jag vill åstadkomma:\n",
    "- Rekommendera och eller föreslå beslutsfattare som läkare för att ge patienter råd om vad som är nästa steg mot sjukdomen\n",
    "\n",
    "##### Dataset beskrivning\n",
    "Den data jag hittade komma från en källor.\n",
    "\n",
    "Ögonmottagning A Lund\n",
"\n",
    "Problem lösning är att:\n",
    "\n",
    "- Jag lärde känna min data genom att prata med kliniken.\n",
    "- Är det komplett? Ja\n",
    "- Datamängden är stort. Därför delade vi upp data och gjorde den så tillfredsställande som möjligt för analysen.\n",
    "- Ingen null-värden\n",
    "- Ingen extrema värden\n",
    "\n",
    "Hur många rader har du? \n",
    "- Inte bestämt än\n",
    "\n",
    "Hur är kvaliteten på datat? \n",
    "- Bra\n",
    "\n",
    "### Datauppsättning: träningsdatauppsättning.\n",
    "\n",
    "I datasetet har jag två klasser: tumör och frisk vävnad.\n",
    "Tillsammans med kliniken kommer vi att arbeta mot att hitta den tredje klassen av poäng.\n",
    "\n",
    "- Syftet med detta projekt är att använda spektrala 'fingeravtryck' för att karakterisera olika typer av vävnader och träna en modell för att klassificera mellan malign och benign hudvävnad;\n",
    "- De tillgängliga data är foto akustiska data, som visar en stor spektral kontrast mellan tumör och frisk vävnad;\n",
    "- Uppgifterna är fullständiga om man överväger det enstaka melanomprovet. Varje prov innehåller tillräckligt med data för att träna en modell och implementera personlig analys för varje patient.\n",
    "- Det finns inga nollvärden och spektra är homogent fördelade längs ett intervall av intensiteter;\n",
    "- Data ges redan i ett numeriskt format: varje datapunkt är en vektor med 59 element och etiketterna är binära: 0 för frisk vävnad och 1 för tumörvävnad.\n",
    "\n",
    "Efter analys och träning av datasetet bör man kunna visa eller plotta de spektra som finns i träningsdataset. Röd för tumörspektra, grön för friska.\n",
    "\n",
    "Vi funderade också på att separera den tredje gruppen, \"riskgruppen\", som inte är närvarande för tillfället. Det bör dock inte dramatiskt ändra beskrivningen av uppgifterna. Vi ska försöka göra det så enkelt som möjligt. Därefter kan vi utarbeta, rekommendera och eller föreslå beslutsfattare som läkare för att ge patienter råd om vad som är nästa steg mot sjukdomen.\n"
"\n",
"Datatypen är inte en råmatris. Det är en numerisk form och välstrukturerad.\n",
"Vi uteslöt och tog bort bakgrunden från bilderna och skapade sedan kluster.\n",

"Fältvärdena är i decimaltal och etiketterna är baserade på intensiteten hos friska, ohälsosamma vävnader och vi formulerar risketiketter och andra etiketter så pass lämpliga som möjligt för att få meningsfulla resultat.\n",
 
"Individuella etiketter skulle vara likvärdiga med dess egenskaper i de olika vågorna vi har cirka 59 vågvärden.\n",

"Det finns tusentals datapunkter som fortfarande är osäkra hur mycket vi kommer att använda. Vi planerar att använda så många datapunkter vi kan för att få ett bra resultat.\n",

"Eftersom uppgifterna är märkta använder vi klassificeringsmetoden för att lösa problemet.\n",
"Datan tillhandahålls av Lunds universitet - PA-Research Group oftalmologiska kliniken.\n",

"Datan är välstrukturerad och vi kommer att arbeta med de neurala nätverken men inte så djupt.\n",

"När jag tittar på olika tillvägagångssätt från kursen, är ett av verktygen jag kommer att använda TensorFlow.\n"
   ]
  }
 ],
 "metadata": {
  "language_info": {
   "name": "python"
  }
 },
 "nbformat": 4,
 "nbformat_minor": 2
}
