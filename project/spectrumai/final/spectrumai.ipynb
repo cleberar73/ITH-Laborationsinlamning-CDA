{
 "cells": [
  {
   "cell_type": "markdown",
   "metadata": {},
   "source": [
    "### SpectrumAI Project"
   ]
  },
  {
   "cell_type": "markdown",
   "metadata": {},
   "source": [
    "* Defining and choose the right model to the project\n",
    "* Spliting the training points\n",
    "* Setting up the classifier\n",
    "* Defining the training\n",
    "* Defining the validations loops\n",
    "* Getting some approximate results from the dataset\n",
    "* Optimizing the right parameters\n",
    "* Getting final result (best solution and results)\n",
    "* Show the Preparation, Figures and Analyses  - Folder ./figures and ./models"
   ]
  },
  {
   "cell_type": "markdown",
   "metadata": {},
   "source": [
    "### Results:"
   ]
  },
  {
   "cell_type": "markdown",
   "metadata": {},
   "source": [
    "### Get to know the data\n",
    "\n",
    "Data loaded successfully!\n",
    "\n",
    "* Data & labels loaded successfully!\n",
    "* Data :  [[1261. 1263. 1245. ...  148.  112.  107.]\n",
    " [1405. 1403. 1382. ...  157.  117.  111.]\n",
    " [1506. 1524. 1498. ...  165.  117.  113.]\n",
    " ...\n",
    " [  46.   44.   52. ...   57.   54.   51.]\n",
    " [  58.   37.   43. ...    8.    7.   12.]\n",
    " [  32.   49.   43. ...   26.   16.   19.]]\n",
    "* Label :  [[1.]\n",
    " [1.]\n",
    " [1.]\n",
    " ...\n",
    " [0.]\n",
    " [0.]\n",
    " [0.]]\n",
    "\n",
    "* Lenght:  36762"
   ]
  },
  {
   "cell_type": "markdown",
   "metadata": {},
   "source": [
    "* ================================================================================\n",
    "* First element from the array:  [array([1261., 1263., 1245., 1241., 1192., 1133., 1080., 1057., 1022.,\n",
    "        968.,  969.,  981.,  890.,  866.,  839.,  813.,  757.,  759.,\n",
    "        726.,  709.,  711.,  682.,  684.,  639.,  601.,  572.,  558.,\n",
    "        542.,  532.,  495.,  518.,  522.,  449.,  433.,  423.,  412.,\n",
    "        414.,  384.,  385.,  364.,  349.,  352.,  336.,  311.,  286.,\n",
    "        302.,  277.,  271.,  278.,  261.,  260.,  248.,  218.,  180.,\n",
    "        164.,  163.,  148.,  112.,  107.])]\n",
    "* ================================================================================\n",
    "* Size of the real_data array:  36762\n",
    "* Size flattened array for real_data:  2168958\n",
    "* Size flattened array for real_label:  36762\n",
    "* Size each array subset real data:  59\n",
    "* ================================================================================\n",
    "* Max for the entire real_data:  15648.0\n",
    "* Min for the entire real_data:  3.0\n",
    "* Sum for the entire real_data:  1246284245.0\n",
    "* Mean for the entire real_data:  574.6004509999733\n",
    "* ================================================================================"
   ]
  },
  {
   "cell_type": "markdown",
   "metadata": {},
   "source": [
    "### Try Model with 100 Epochs\n",
    "\n",
    "* ====================\n",
    "* Generated Mean: 0.44707322120666504\n",
    "* Generated Min: 0.02809198759496212\n",
    "* Generated Max: 0.9990172982215881\n",
    "* ====================\n",
    "* Real Mean: 574.6004509999733\n",
    "* Real Min: 3.0\n",
    "* Real Max: 15648.0\n",
    "* ====================\n",
    "* Real data LEN: 36762\n",
    "* Real label LEN: 36762\n",
    "* ====================\n",
    "* Flattened Real data LEN: 2168958\n",
    "* Flattened Real label LEN: 36762\n",
    "* ===================="
   ]
  },
  {
   "cell_type": "markdown",
   "metadata": {},
   "source": [
    "### Try Model with 1000 Epochs"
   ]
  },
  {
   "cell_type": "markdown",
   "metadata": {},
   "source": [
    "* ====================\n",
    "* Generated Mean: 0.1976902037858963 \n",
    "* Generated Min: 0.001359327812679112\n",
    "* Generated Max: 1.0\n",
    "* ====================\n",
    "* Real Mean: 574.6004509999733\n",
    "* Real Min: 3.0\n",
    "*Real Max: 15648.0\n",
    "* ====================\n",
    "* Real data LEN: 36762\n",
    "* Real label LEN: 36762\n",
    "* ====================\n",
    "* Flattened Real data LEN: 2168958\n",
    "* Flattened Real label LEN: 36762\n",
    "* ===================="
   ]
  },
  {
   "cell_type": "markdown",
   "metadata": {},
   "source": [
    "### Try Model with 2000 Epochs"
   ]
  },
  {
   "cell_type": "markdown",
   "metadata": {},
   "source": [
    "* ====================\n",
    "* Generated Mean: 0.9187136292457581\n",
    "* Generated Min: 0.0\n",
    "* Generated Max: 0.9998666644096375\n",
    "* ====================\n",
    "* Real Mean: 574.6004509999733\n",
    "* Real Min: 3.0\n",
    "* Real Max: 15648.0\n",
    "* ====================\n",
    "* Real data LEN: 36762\n",
    "* Real label LEN: 36762\n",
    "* ====================\n",
    "* Flattened Real data LEN: 2168958\n",
    "* Flattened Real label LEN: 36762\n",
    "* ===================="
   ]
  }
 ],
 "metadata": {
  "language_info": {
   "name": "python"
  }
 },
 "nbformat": 4,
 "nbformat_minor": 2
}
