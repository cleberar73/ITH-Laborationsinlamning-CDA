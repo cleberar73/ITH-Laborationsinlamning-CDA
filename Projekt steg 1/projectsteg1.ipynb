### Projekt steg1

##### Min uppgifter är: 
- Tolka patientdata för att förutsäga risk för vissa sjukdomar

##### Beskrivning av problemet:

Jag vill åstadkomma:
- Rekommendera och eller föreslå beslutsfattare som läkare för att ge patienter råd om vad som är nästa steg mot sjukdomen

##### Dataset beskrivning
Den data jag hittade komma från en källor.

Problem lösning är att:

- Jag lärde känna min data genom att prata med kliniken.
- Är det komplett? Ja
- Datamängden är stort. Därför delade vi upp data och gjorde den så tillfredsställande som möjligt för analysen.
- Ingen null-värden
- Ingen extrema värden

Hur många rader har du? 
- Inte bestämt än

Hur är kvaliteten på datat? 
- Bra

### Datauppsättning: träningsdatauppsättning.

I datasetet har jag två klasser: tumör och frisk vävnad.
Tillsammans med kliniken kommer vi att arbeta mot att hitta den tredje klassen av poäng.

- Syftet med detta projekt är att använda spektrala 'fingeravtryck' för att karakterisera olika typer av vävnader och träna en modell för att klassificera mellan malign och benign hudvävnad;
- De tillgängliga data är foto akustiska data, som visar en stor spektral kontrast mellan tumör och frisk vävnad;
- Uppgifterna är fullständiga om man överväger det enstaka melanomprovet. Varje prov innehåller tillräckligt med data för att träna en modell och implementera personlig analys för varje patient.
- Det finns inga nollvärden och spektra är homogent fördelade längs ett intervall av intensiteter;
- Data ges redan i ett numeriskt format: varje datapunkt är en vektor med 59 element och etiketterna är binära: 0 för frisk vävnad och 1 för tumörvävnad.

Efter analys och träning av datasetet bör man kunna visa eller plotta de spektra som finns i träningsdataset. Röd för tumörspektra, grön för friska.

Vi funderade också på att separera den tredje gruppen, "riskgruppen", som inte är närvarande för tillfället. Det bör dock inte dramatiskt ändra beskrivningen av uppgifterna. Vi ska försöka göra det så enkelt som möjligt. Därefter kan vi utarbeta, rekommendera och eller föreslå beslutsfattare som läkare för att ge patienter råd om vad som är nästa steg mot sjukdomen.
